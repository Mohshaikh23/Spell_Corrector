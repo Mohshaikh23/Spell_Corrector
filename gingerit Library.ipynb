{
 "cells": [
  {
   "cell_type": "code",
   "execution_count": null,
   "id": "36d9adb8",
   "metadata": {},
   "outputs": [],
   "source": [
    "#!pip install gingerit"
   ]
  },
  {
   "cell_type": "code",
   "execution_count": 35,
   "id": "2ca66f61",
   "metadata": {},
   "outputs": [],
   "source": [
    "from gingerit.gingerit import GingerIt\n",
    "import pandas as pd\n",
    "parser = GingerIt()"
   ]
  },
  {
   "cell_type": "code",
   "execution_count": 36,
   "id": "347efc12",
   "metadata": {},
   "outputs": [],
   "source": [
    "text = 'The smelt of fliwers bring back memories.'"
   ]
  },
  {
   "cell_type": "code",
   "execution_count": 37,
   "id": "c087a5f5",
   "metadata": {},
   "outputs": [
    {
     "data": {
      "text/plain": [
       "dict"
      ]
     },
     "execution_count": 37,
     "metadata": {},
     "output_type": "execute_result"
    }
   ],
   "source": [
    "dic = parser.parse(text)\n",
    "type(dic)"
   ]
  },
  {
   "cell_type": "code",
   "execution_count": 38,
   "id": "d0647af0",
   "metadata": {},
   "outputs": [
    {
     "data": {
      "text/plain": [
       "{'text': 'The smelt of fliwers bring back memories.',\n",
       " 'result': 'The smell of flowers brings back memories.',\n",
       " 'corrections': [{'start': 21,\n",
       "   'text': 'bring',\n",
       "   'correct': 'brings',\n",
       "   'definition': None},\n",
       "  {'start': 13,\n",
       "   'text': 'fliwers',\n",
       "   'correct': 'flowers',\n",
       "   'definition': 'a plant cultivated for its blooms or blossoms'},\n",
       "  {'start': 4, 'text': 'smelt', 'correct': 'smell', 'definition': None}]}"
      ]
     },
     "execution_count": 38,
     "metadata": {},
     "output_type": "execute_result"
    }
   ],
   "source": [
    "dic"
   ]
  },
  {
   "cell_type": "code",
   "execution_count": 48,
   "id": "2243a718",
   "metadata": {},
   "outputs": [],
   "source": [
    "index_num=[]\n",
    "incorrect_words = []\n",
    "correct_words = []\n",
    "definition = []\n",
    "for i in dic['corrections']:\n",
    "    index_num.append(i['start'])\n",
    "    incorrect_words.append(i['text'])\n",
    "    correct_words.append(i['correct'])\n",
    "    definition.append(i['definition'])\n",
    "df = pd.DataFrame({'index_num':index_num,\n",
    "                  'incorrect_words':incorrect_words,\n",
    "                  'correct_words':correct_words,\n",
    "                  'definition':definition})"
   ]
  },
  {
   "cell_type": "code",
   "execution_count": 49,
   "id": "69e820db",
   "metadata": {},
   "outputs": [
    {
     "data": {
      "text/html": [
       "<div>\n",
       "<style scoped>\n",
       "    .dataframe tbody tr th:only-of-type {\n",
       "        vertical-align: middle;\n",
       "    }\n",
       "\n",
       "    .dataframe tbody tr th {\n",
       "        vertical-align: top;\n",
       "    }\n",
       "\n",
       "    .dataframe thead th {\n",
       "        text-align: right;\n",
       "    }\n",
       "</style>\n",
       "<table border=\"1\" class=\"dataframe\">\n",
       "  <thead>\n",
       "    <tr style=\"text-align: right;\">\n",
       "      <th></th>\n",
       "      <th>index_num</th>\n",
       "      <th>incorrect_words</th>\n",
       "      <th>correct_words</th>\n",
       "      <th>definition</th>\n",
       "    </tr>\n",
       "  </thead>\n",
       "  <tbody>\n",
       "    <tr>\n",
       "      <th>0</th>\n",
       "      <td>21</td>\n",
       "      <td>bring</td>\n",
       "      <td>brings</td>\n",
       "      <td>None</td>\n",
       "    </tr>\n",
       "    <tr>\n",
       "      <th>1</th>\n",
       "      <td>13</td>\n",
       "      <td>fliwers</td>\n",
       "      <td>flowers</td>\n",
       "      <td>a plant cultivated for its blooms or blossoms</td>\n",
       "    </tr>\n",
       "    <tr>\n",
       "      <th>2</th>\n",
       "      <td>4</td>\n",
       "      <td>smelt</td>\n",
       "      <td>smell</td>\n",
       "      <td>None</td>\n",
       "    </tr>\n",
       "  </tbody>\n",
       "</table>\n",
       "</div>"
      ],
      "text/plain": [
       "   index_num incorrect_words correct_words  \\\n",
       "0         21           bring        brings   \n",
       "1         13         fliwers       flowers   \n",
       "2          4           smelt         smell   \n",
       "\n",
       "                                      definition  \n",
       "0                                           None  \n",
       "1  a plant cultivated for its blooms or blossoms  \n",
       "2                                           None  "
      ]
     },
     "execution_count": 49,
     "metadata": {},
     "output_type": "execute_result"
    }
   ],
   "source": [
    "df"
   ]
  },
  {
   "cell_type": "code",
   "execution_count": null,
   "id": "67f6933b",
   "metadata": {},
   "outputs": [],
   "source": []
  },
  {
   "cell_type": "code",
   "execution_count": null,
   "id": "9942f0a2",
   "metadata": {},
   "outputs": [],
   "source": []
  },
  {
   "cell_type": "code",
   "execution_count": null,
   "id": "b277de74",
   "metadata": {},
   "outputs": [],
   "source": []
  },
  {
   "cell_type": "code",
   "execution_count": null,
   "id": "97137382",
   "metadata": {},
   "outputs": [],
   "source": []
  },
  {
   "cell_type": "code",
   "execution_count": 33,
   "id": "b7a5e30f",
   "metadata": {},
   "outputs": [
    {
     "data": {
      "text/plain": [
       "0    {'start': 21, 'text': 'bring', 'correct': 'bri...\n",
       "1    {'start': 13, 'text': 'fliwers', 'correct': 'f...\n",
       "2    {'start': 4, 'text': 'smelt', 'correct': 'smel...\n",
       "Name: corrections, dtype: object"
      ]
     },
     "execution_count": 33,
     "metadata": {},
     "output_type": "execute_result"
    }
   ],
   "source": [
    "df = pd.DataFrame(dic)\n",
    "df['corrections']"
   ]
  },
  {
   "cell_type": "code",
   "execution_count": 34,
   "id": "5c9ffc2a",
   "metadata": {},
   "outputs": [
    {
     "data": {
      "text/plain": [
       "[{'start': 21, 'text': 'bring', 'correct': 'brings', 'definition': None},\n",
       " {'start': 13,\n",
       "  'text': 'fliwers',\n",
       "  'correct': 'flowers',\n",
       "  'definition': 'a plant cultivated for its blooms or blossoms'},\n",
       " {'start': 4, 'text': 'smelt', 'correct': 'smell', 'definition': None}]"
      ]
     },
     "execution_count": 34,
     "metadata": {},
     "output_type": "execute_result"
    }
   ],
   "source": [
    "key=[]\n",
    "for keys in df['corrections']:\n",
    "    key.append(keys)\n",
    "key"
   ]
  },
  {
   "cell_type": "code",
   "execution_count": null,
   "id": "97ff5aee",
   "metadata": {},
   "outputs": [],
   "source": []
  },
  {
   "cell_type": "code",
   "execution_count": null,
   "id": "664d3013",
   "metadata": {},
   "outputs": [],
   "source": [
    "text = 'The begg of beggars bring good credits.'\n",
    "parser.parse(text)\n",
    "dic = parser.parse(text)\n",
    "dic"
   ]
  },
  {
   "cell_type": "code",
   "execution_count": null,
   "id": "a1d22ab4",
   "metadata": {},
   "outputs": [],
   "source": [
    "text = 'if i give you mney you can have evething.'\n",
    "parser.parse(text)\n",
    "dic = parser.parse(text)\n",
    "dic"
   ]
  },
  {
   "cell_type": "code",
   "execution_count": null,
   "id": "753b2c2b",
   "metadata": {},
   "outputs": [],
   "source": []
  }
 ],
 "metadata": {
  "kernelspec": {
   "display_name": "Python 3 (ipykernel)",
   "language": "python",
   "name": "python3"
  },
  "language_info": {
   "codemirror_mode": {
    "name": "ipython",
    "version": 3
   },
   "file_extension": ".py",
   "mimetype": "text/x-python",
   "name": "python",
   "nbconvert_exporter": "python",
   "pygments_lexer": "ipython3",
   "version": "3.9.16"
  }
 },
 "nbformat": 4,
 "nbformat_minor": 5
}
